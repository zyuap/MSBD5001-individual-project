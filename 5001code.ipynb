{
 "cells": [
  {
   "cell_type": "code",
   "execution_count": 1,
   "metadata": {},
   "outputs": [],
   "source": [
    "import pandas as pd\n",
    "import numpy as np\n",
    "import math\n",
    "import re\n",
    "import time"
   ]
  },
  {
   "cell_type": "code",
   "execution_count": 2,
   "metadata": {},
   "outputs": [],
   "source": [
    "import datetime\n",
    "import dateutil.parser as dparser"
   ]
  },
  {
   "cell_type": "code",
   "execution_count": 3,
   "metadata": {},
   "outputs": [],
   "source": [
    "import datetime\n",
    "import dateutil.parser as dparser"
   ]
  },
  {
   "cell_type": "code",
   "execution_count": 21,
   "metadata": {},
   "outputs": [],
   "source": [
    "from sklearn.model_selection import train_test_split\n",
    "from sklearn.ensemble import RandomForestRegressor"
   ]
  },
  {
   "cell_type": "code",
   "execution_count": 5,
   "metadata": {},
   "outputs": [],
   "source": [
    "traindata = pd.read_csv('train.csv')"
   ]
  },
  {
   "cell_type": "code",
   "execution_count": 6,
   "metadata": {},
   "outputs": [],
   "source": [
    "testdata = pd.read_csv('test.csv')"
   ]
  },
  {
   "cell_type": "code",
   "execution_count": 7,
   "metadata": {},
   "outputs": [],
   "source": [
    "default_date = datetime.datetime(2000,1,1)"
   ]
  },
  {
   "cell_type": "code",
   "execution_count": 8,
   "metadata": {},
   "outputs": [],
   "source": [
    "def is_freetonumber(is_free):\n",
    "    if(is_free==False):\n",
    "        return 0\n",
    "    if(is_free==True):\n",
    "        return 1"
   ]
  },
  {
   "cell_type": "code",
   "execution_count": 9,
   "metadata": {},
   "outputs": [],
   "source": [
    "def stringtolist(data):\n",
    "    ans = []\n",
    "    for i in range(len(data)):\n",
    "        temp_list = data[i].split(',')\n",
    "        for j in range(len(temp_list)):\n",
    "            temp = temp_list[j]\n",
    "            ans.append(temp)\n",
    "    return ans"
   ]
  },
  {
   "cell_type": "code",
   "execution_count": 10,
   "metadata": {},
   "outputs": [],
   "source": [
    "def texttodictionary(column):\n",
    "    c_list = stringtolist(column)\n",
    "    dictionary = set(c_list)\n",
    "    return dictionary"
   ]
  },
  {
   "cell_type": "code",
   "execution_count": 11,
   "metadata": {},
   "outputs": [],
   "source": [
    "def texttoonehot(dictionary,column,data):\n",
    "    for i in dictionary:\n",
    "        ans = []\n",
    "        for j in range(len(column)):\n",
    "            text_list = column[j].split(',')\n",
    "            temp = 0 \n",
    "            for k in range(len(text_list)):\n",
    "                if(text_list[k] == i):\n",
    "                    ans.append(1)\n",
    "                    temp = 1\n",
    "                    break\n",
    "            if(temp == 0):\n",
    "                ans.append(0)\n",
    "        n_column = {i:ans}\n",
    "        n_column = pd.DataFrame(n_column)\n",
    "        data = pd.concat([data,n_column],axis=1) \n",
    "    return data\n",
    "#convert string like tages,categories to one-hot code,connect them with the original dataframe"
   ]
  },
  {
   "cell_type": "code",
   "execution_count": 12,
   "metadata": {},
   "outputs": [],
   "source": [
    "def stringtodatetime(string):\n",
    "    if(type(string) == str):\n",
    "        cur_date = dparser.parse(string,fuzzy=True)\n",
    "        return ((cur_date-default_date).days)\n",
    "#convert date to the number of days from default date"
   ]
  },
  {
   "cell_type": "code",
   "execution_count": 13,
   "metadata": {},
   "outputs": [
    {
     "name": "stderr",
     "output_type": "stream",
     "text": [
      "C:\\Users\\lenovo\\Anaconda3\\lib\\site-packages\\pandas\\core\\indexing.py:190: SettingWithCopyWarning: \n",
      "A value is trying to be set on a copy of a slice from a DataFrame\n",
      "\n",
      "See the caveats in the documentation: http://pandas.pydata.org/pandas-docs/stable/indexing.html#indexing-view-versus-copy\n",
      "  self._setitem_with_indexer(indexer, value)\n"
     ]
    }
   ],
   "source": [
    "for i in range(len(traindata.is_free)):\n",
    "    traindata.is_free.loc[i] = is_freetonumber(traindata.is_free[i])"
   ]
  },
  {
   "cell_type": "code",
   "execution_count": 14,
   "metadata": {},
   "outputs": [],
   "source": [
    "for i in range(len(traindata.purchase_date)):\n",
    "    traindata.purchase_date.loc[i] = stringtodatetime(traindata.purchase_date[i])\n",
    "    traindata.release_date.loc[i] = stringtodatetime(traindata.release_date[i])\n",
    "aver_purchase=0\n",
    "aver_release=0\n",
    "for i in range(len(traindata.release_date)):\n",
    "    if(traindata.purchase_date[i] != None):\n",
    "        aver_purchase += traindata.purchase_date[i]\n",
    "    if(traindata.release_date[i] != None):\n",
    "        aver_release += traindata.release_date[i]\n",
    "aver_purchase = int(aver_purchase/len(traindata.release_date))\n",
    "aver_release = int(aver_release/len(traindata.release_date))\n",
    "#fill None with average number\n",
    "for i in range(len(traindata.release_date)):\n",
    "    if(traindata.purchase_date[i] == None):\n",
    "        traindata.purchase_date.loc[i] = aver_purchase\n",
    "    if(traindata.release_date[i] == None):\n",
    "        traindata.release_date.loc[i] = aver_release"
   ]
  },
  {
   "cell_type": "code",
   "execution_count": 15,
   "metadata": {},
   "outputs": [],
   "source": [
    "g_train_dictionary = texttodictionary(traindata.genres)\n",
    "c_train_dictionary = texttodictionary(traindata.categories)\n",
    "t_train_dictionary = texttodictionary(traindata.tags)\n",
    "#storage the appeared words"
   ]
  },
  {
   "cell_type": "code",
   "execution_count": 16,
   "metadata": {},
   "outputs": [],
   "source": [
    "traindata = texttoonehot(g_train_dictionary,traindata.genres,traindata)\n",
    "traindata = texttoonehot(c_train_dictionary,traindata.categories,traindata)\n",
    "traindata = texttoonehot(t_train_dictionary,traindata.tags,traindata)"
   ]
  },
  {
   "cell_type": "code",
   "execution_count": 17,
   "metadata": {},
   "outputs": [],
   "source": [
    "f_traindata = traindata.drop(['id','playtime_forever','genres','categories','tags'], axis=1)\n",
    "f_traindata = f_traindata.fillna(0)"
   ]
  },
  {
   "cell_type": "code",
   "execution_count": 22,
   "metadata": {},
   "outputs": [],
   "source": [
    "rf = RandomForestRegressor(max_depth = 6,min_impurity_split = 15)"
   ]
  },
  {
   "cell_type": "code",
   "execution_count": 23,
   "metadata": {},
   "outputs": [
    {
     "name": "stderr",
     "output_type": "stream",
     "text": [
      "C:\\Users\\lenovo\\Anaconda3\\lib\\site-packages\\sklearn\\ensemble\\forest.py:245: FutureWarning: The default value of n_estimators will change from 10 in version 0.20 to 100 in 0.22.\n",
      "  \"10 in version 0.20 to 100 in 0.22.\", FutureWarning)\n",
      "C:\\Users\\lenovo\\Anaconda3\\lib\\site-packages\\sklearn\\tree\\tree.py:297: DeprecationWarning: The min_impurity_split parameter is deprecated. Its default value will change from 1e-7 to 0 in version 0.23, and it will be removed in 0.25. Use the min_impurity_decrease parameter instead.\n",
      "  DeprecationWarning)\n",
      "C:\\Users\\lenovo\\Anaconda3\\lib\\site-packages\\sklearn\\tree\\tree.py:297: DeprecationWarning: The min_impurity_split parameter is deprecated. Its default value will change from 1e-7 to 0 in version 0.23, and it will be removed in 0.25. Use the min_impurity_decrease parameter instead.\n",
      "  DeprecationWarning)\n",
      "C:\\Users\\lenovo\\Anaconda3\\lib\\site-packages\\sklearn\\tree\\tree.py:297: DeprecationWarning: The min_impurity_split parameter is deprecated. Its default value will change from 1e-7 to 0 in version 0.23, and it will be removed in 0.25. Use the min_impurity_decrease parameter instead.\n",
      "  DeprecationWarning)\n",
      "C:\\Users\\lenovo\\Anaconda3\\lib\\site-packages\\sklearn\\tree\\tree.py:297: DeprecationWarning: The min_impurity_split parameter is deprecated. Its default value will change from 1e-7 to 0 in version 0.23, and it will be removed in 0.25. Use the min_impurity_decrease parameter instead.\n",
      "  DeprecationWarning)\n",
      "C:\\Users\\lenovo\\Anaconda3\\lib\\site-packages\\sklearn\\tree\\tree.py:297: DeprecationWarning: The min_impurity_split parameter is deprecated. Its default value will change from 1e-7 to 0 in version 0.23, and it will be removed in 0.25. Use the min_impurity_decrease parameter instead.\n",
      "  DeprecationWarning)\n",
      "C:\\Users\\lenovo\\Anaconda3\\lib\\site-packages\\sklearn\\tree\\tree.py:297: DeprecationWarning: The min_impurity_split parameter is deprecated. Its default value will change from 1e-7 to 0 in version 0.23, and it will be removed in 0.25. Use the min_impurity_decrease parameter instead.\n",
      "  DeprecationWarning)\n",
      "C:\\Users\\lenovo\\Anaconda3\\lib\\site-packages\\sklearn\\tree\\tree.py:297: DeprecationWarning: The min_impurity_split parameter is deprecated. Its default value will change from 1e-7 to 0 in version 0.23, and it will be removed in 0.25. Use the min_impurity_decrease parameter instead.\n",
      "  DeprecationWarning)\n",
      "C:\\Users\\lenovo\\Anaconda3\\lib\\site-packages\\sklearn\\tree\\tree.py:297: DeprecationWarning: The min_impurity_split parameter is deprecated. Its default value will change from 1e-7 to 0 in version 0.23, and it will be removed in 0.25. Use the min_impurity_decrease parameter instead.\n",
      "  DeprecationWarning)\n",
      "C:\\Users\\lenovo\\Anaconda3\\lib\\site-packages\\sklearn\\tree\\tree.py:297: DeprecationWarning: The min_impurity_split parameter is deprecated. Its default value will change from 1e-7 to 0 in version 0.23, and it will be removed in 0.25. Use the min_impurity_decrease parameter instead.\n",
      "  DeprecationWarning)\n",
      "C:\\Users\\lenovo\\Anaconda3\\lib\\site-packages\\sklearn\\tree\\tree.py:297: DeprecationWarning: The min_impurity_split parameter is deprecated. Its default value will change from 1e-7 to 0 in version 0.23, and it will be removed in 0.25. Use the min_impurity_decrease parameter instead.\n",
      "  DeprecationWarning)\n"
     ]
    }
   ],
   "source": [
    "model = rf.fit(f_traindata,traindata.playtime_forever)"
   ]
  },
  {
   "cell_type": "code",
   "execution_count": 24,
   "metadata": {},
   "outputs": [
    {
     "name": "stderr",
     "output_type": "stream",
     "text": [
      "C:\\Users\\lenovo\\Anaconda3\\lib\\site-packages\\pandas\\core\\indexing.py:190: SettingWithCopyWarning: \n",
      "A value is trying to be set on a copy of a slice from a DataFrame\n",
      "\n",
      "See the caveats in the documentation: http://pandas.pydata.org/pandas-docs/stable/indexing.html#indexing-view-versus-copy\n",
      "  self._setitem_with_indexer(indexer, value)\n"
     ]
    }
   ],
   "source": [
    "for i in range(len(testdata.is_free)):\n",
    "    testdata.is_free.loc[i] = is_freetonumber(testdata.is_free[i])\n",
    "#doing the same data processing to testset"
   ]
  },
  {
   "cell_type": "code",
   "execution_count": 25,
   "metadata": {},
   "outputs": [],
   "source": [
    "for i in range(len(testdata.purchase_date)):\n",
    "    testdata.purchase_date.loc[i] = stringtodatetime(testdata.purchase_date[i])\n",
    "    testdata.release_date.loc[i] = stringtodatetime(testdata.release_date[i])\n",
    "aver_purchase=0\n",
    "aver_release=0\n",
    "for i in range(len(testdata.release_date)):\n",
    "    if(testdata.purchase_date[i] != None):\n",
    "        aver_purchase += testdata.purchase_date[i]\n",
    "    if(testdata.release_date[i] != None):\n",
    "        aver_release += testdata.release_date[i]\n",
    "aver_purchase = int(aver_purchase/len(testdata.release_date))\n",
    "aver_release = int(aver_release/len(testdata.release_date))\n",
    "for i in range(len(testdata.release_date)):\n",
    "    if(testdata.purchase_date[i] == None):\n",
    "        testdata.purchase_date.loc[i] = aver_purchase\n",
    "    if(testdata.release_date[i] == None):\n",
    "        testdata.release_date.loc[i] = aver_release"
   ]
  },
  {
   "cell_type": "code",
   "execution_count": 26,
   "metadata": {},
   "outputs": [],
   "source": [
    "testdata = texttoonehot(g_train_dictionary,testdata.genres,testdata)\n",
    "testdata = texttoonehot(c_train_dictionary,testdata.categories,testdata)\n",
    "testdata = texttoonehot(t_train_dictionary,testdata.tags,testdata)"
   ]
  },
  {
   "cell_type": "code",
   "execution_count": 27,
   "metadata": {},
   "outputs": [],
   "source": [
    "f_testdata = testdata.drop(['id','genres','categories','tags'], axis=1)"
   ]
  },
  {
   "cell_type": "code",
   "execution_count": 28,
   "metadata": {},
   "outputs": [],
   "source": [
    "f_testdata = f_testdata.fillna(0)"
   ]
  },
  {
   "cell_type": "code",
   "execution_count": 29,
   "metadata": {},
   "outputs": [],
   "source": [
    "y = model.predict(f_testdata)"
   ]
  },
  {
   "cell_type": "code",
   "execution_count": 30,
   "metadata": {},
   "outputs": [],
   "source": [
    "save = {'id':testdata.id,'playtime_forever':y}"
   ]
  },
  {
   "cell_type": "code",
   "execution_count": 31,
   "metadata": {},
   "outputs": [],
   "source": [
    "save = pd.DataFrame(save)"
   ]
  },
  {
   "cell_type": "code",
   "execution_count": 32,
   "metadata": {},
   "outputs": [],
   "source": [
    "save.to_csv('E:/5001 individual/test1.csv',index=False,header=True)\n",
    "#gennerate final submission"
   ]
  }
 ],
 "metadata": {
  "kernelspec": {
   "display_name": "Python 3",
   "language": "python",
   "name": "python3"
  },
  "language_info": {
   "codemirror_mode": {
    "name": "ipython",
    "version": 3
   },
   "file_extension": ".py",
   "mimetype": "text/x-python",
   "name": "python",
   "nbconvert_exporter": "python",
   "pygments_lexer": "ipython3",
   "version": "3.7.3"
  }
 },
 "nbformat": 4,
 "nbformat_minor": 2
}
